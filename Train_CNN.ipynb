{
 "cells": [
  {
   "cell_type": "code",
   "execution_count": 2,
   "metadata": {},
   "outputs": [
    {
     "name": "stderr",
     "output_type": "stream",
     "text": [
      "Using TensorFlow backend.\n",
      "C:\\Users\\LINGAM\\anaconda3\\lib\\site-packages\\tensorflow\\python\\framework\\dtypes.py:516: FutureWarning: Passing (type, 1) or '1type' as a synonym of type is deprecated; in a future version of numpy, it will be understood as (type, (1,)) / '(1,)type'.\n",
      "  _np_qint8 = np.dtype([(\"qint8\", np.int8, 1)])\n",
      "C:\\Users\\LINGAM\\anaconda3\\lib\\site-packages\\tensorflow\\python\\framework\\dtypes.py:517: FutureWarning: Passing (type, 1) or '1type' as a synonym of type is deprecated; in a future version of numpy, it will be understood as (type, (1,)) / '(1,)type'.\n",
      "  _np_quint8 = np.dtype([(\"quint8\", np.uint8, 1)])\n",
      "C:\\Users\\LINGAM\\anaconda3\\lib\\site-packages\\tensorflow\\python\\framework\\dtypes.py:518: FutureWarning: Passing (type, 1) or '1type' as a synonym of type is deprecated; in a future version of numpy, it will be understood as (type, (1,)) / '(1,)type'.\n",
      "  _np_qint16 = np.dtype([(\"qint16\", np.int16, 1)])\n",
      "C:\\Users\\LINGAM\\anaconda3\\lib\\site-packages\\tensorflow\\python\\framework\\dtypes.py:519: FutureWarning: Passing (type, 1) or '1type' as a synonym of type is deprecated; in a future version of numpy, it will be understood as (type, (1,)) / '(1,)type'.\n",
      "  _np_quint16 = np.dtype([(\"quint16\", np.uint16, 1)])\n",
      "C:\\Users\\LINGAM\\anaconda3\\lib\\site-packages\\tensorflow\\python\\framework\\dtypes.py:520: FutureWarning: Passing (type, 1) or '1type' as a synonym of type is deprecated; in a future version of numpy, it will be understood as (type, (1,)) / '(1,)type'.\n",
      "  _np_qint32 = np.dtype([(\"qint32\", np.int32, 1)])\n",
      "C:\\Users\\LINGAM\\anaconda3\\lib\\site-packages\\tensorflow\\python\\framework\\dtypes.py:525: FutureWarning: Passing (type, 1) or '1type' as a synonym of type is deprecated; in a future version of numpy, it will be understood as (type, (1,)) / '(1,)type'.\n",
      "  np_resource = np.dtype([(\"resource\", np.ubyte, 1)])\n",
      "C:\\Users\\LINGAM\\anaconda3\\lib\\site-packages\\tensorboard\\compat\\tensorflow_stub\\dtypes.py:541: FutureWarning: Passing (type, 1) or '1type' as a synonym of type is deprecated; in a future version of numpy, it will be understood as (type, (1,)) / '(1,)type'.\n",
      "  _np_qint8 = np.dtype([(\"qint8\", np.int8, 1)])\n",
      "C:\\Users\\LINGAM\\anaconda3\\lib\\site-packages\\tensorboard\\compat\\tensorflow_stub\\dtypes.py:542: FutureWarning: Passing (type, 1) or '1type' as a synonym of type is deprecated; in a future version of numpy, it will be understood as (type, (1,)) / '(1,)type'.\n",
      "  _np_quint8 = np.dtype([(\"quint8\", np.uint8, 1)])\n",
      "C:\\Users\\LINGAM\\anaconda3\\lib\\site-packages\\tensorboard\\compat\\tensorflow_stub\\dtypes.py:543: FutureWarning: Passing (type, 1) or '1type' as a synonym of type is deprecated; in a future version of numpy, it will be understood as (type, (1,)) / '(1,)type'.\n",
      "  _np_qint16 = np.dtype([(\"qint16\", np.int16, 1)])\n",
      "C:\\Users\\LINGAM\\anaconda3\\lib\\site-packages\\tensorboard\\compat\\tensorflow_stub\\dtypes.py:544: FutureWarning: Passing (type, 1) or '1type' as a synonym of type is deprecated; in a future version of numpy, it will be understood as (type, (1,)) / '(1,)type'.\n",
      "  _np_quint16 = np.dtype([(\"quint16\", np.uint16, 1)])\n",
      "C:\\Users\\LINGAM\\anaconda3\\lib\\site-packages\\tensorboard\\compat\\tensorflow_stub\\dtypes.py:545: FutureWarning: Passing (type, 1) or '1type' as a synonym of type is deprecated; in a future version of numpy, it will be understood as (type, (1,)) / '(1,)type'.\n",
      "  _np_qint32 = np.dtype([(\"qint32\", np.int32, 1)])\n",
      "C:\\Users\\LINGAM\\anaconda3\\lib\\site-packages\\tensorboard\\compat\\tensorflow_stub\\dtypes.py:550: FutureWarning: Passing (type, 1) or '1type' as a synonym of type is deprecated; in a future version of numpy, it will be understood as (type, (1,)) / '(1,)type'.\n",
      "  np_resource = np.dtype([(\"resource\", np.ubyte, 1)])\n"
     ]
    }
   ],
   "source": [
    "from keras.preprocessing.image import ImageDataGenerator\n",
    "train_datagen=ImageDataGenerator(rescale=1./255,shear_range=0.2,zoom_range=0.2,horizontal_flip=True)\n",
    "test_datagen=ImageDataGenerator(rescale=1)"
   ]
  },
  {
   "cell_type": "code",
   "execution_count": 3,
   "metadata": {},
   "outputs": [
    {
     "name": "stdout",
     "output_type": "stream",
     "text": [
      "Found 7677 images belonging to 32 classes.\n",
      "Found 1633 images belonging to 32 classes.\n"
     ]
    }
   ],
   "source": [
    "x_train=train_datagen.flow_from_directory(r'C:\\Users\\LINGAM\\Dataset\\Train_set',target_size=(64,64),batch_size=32,class_mode='categorical')\n",
    "x_test=test_datagen.flow_from_directory(r'C:\\Users\\LINGAM\\Dataset\\Test_set',target_size=(64,64),batch_size=32,class_mode='categorical')"
   ]
  },
  {
   "cell_type": "code",
   "execution_count": 4,
   "metadata": {},
   "outputs": [],
   "source": [
    "from keras.models import Sequential\n",
    "from keras.layers import Dense\n",
    "from keras.layers import Convolution2D\n",
    "from keras.layers import MaxPooling2D\n",
    "from keras.layers import Flatten"
   ]
  },
  {
   "cell_type": "code",
   "execution_count": 5,
   "metadata": {},
   "outputs": [],
   "source": [
    "model=Sequential()"
   ]
  },
  {
   "cell_type": "code",
   "execution_count": 6,
   "metadata": {},
   "outputs": [],
   "source": [
    "model.add(Convolution2D(32,(3,3),input_shape=(64,64,3),activation='relu'))"
   ]
  },
  {
   "cell_type": "code",
   "execution_count": 7,
   "metadata": {},
   "outputs": [
    {
     "name": "stdout",
     "output_type": "stream",
     "text": [
      "WARNING:tensorflow:From C:\\Users\\LINGAM\\anaconda3\\lib\\site-packages\\keras\\backend\\tensorflow_backend.py:4070: The name tf.nn.max_pool is deprecated. Please use tf.nn.max_pool2d instead.\n",
      "\n"
     ]
    }
   ],
   "source": [
    "model.add(MaxPooling2D(pool_size=(2,2)))"
   ]
  },
  {
   "cell_type": "code",
   "execution_count": 8,
   "metadata": {},
   "outputs": [],
   "source": [
    "model.add(Flatten())"
   ]
  },
  {
   "cell_type": "code",
   "execution_count": 9,
   "metadata": {},
   "outputs": [
    {
     "name": "stderr",
     "output_type": "stream",
     "text": [
      "C:\\Users\\LINGAM\\anaconda3\\lib\\site-packages\\ipykernel_launcher.py:1: UserWarning: Update your `Dense` call to the Keras 2 API: `Dense(activation=\"relu\", units=128, kernel_initializer=\"uniform\")`\n",
      "  \"\"\"Entry point for launching an IPython kernel.\n"
     ]
    }
   ],
   "source": [
    "model.add(Dense(output_dim=128,init='uniform',activation='relu'))"
   ]
  },
  {
   "cell_type": "code",
   "execution_count": 10,
   "metadata": {},
   "outputs": [
    {
     "name": "stderr",
     "output_type": "stream",
     "text": [
      "C:\\Users\\LINGAM\\anaconda3\\lib\\site-packages\\ipykernel_launcher.py:1: UserWarning: Update your `Dense` call to the Keras 2 API: `Dense(activation=\"softmax\", units=32, kernel_initializer=\"uniform\")`\n",
      "  \"\"\"Entry point for launching an IPython kernel.\n"
     ]
    }
   ],
   "source": [
    "model.add(Dense(output_dim=32,activation='softmax',init='uniform'))"
   ]
  },
  {
   "cell_type": "code",
   "execution_count": null,
   "metadata": {},
   "outputs": [],
   "source": []
  },
  {
   "cell_type": "code",
   "execution_count": 11,
   "metadata": {},
   "outputs": [],
   "source": [
    "model.compile(loss='categorical_crossentropy',optimizer='adam',metrics=['accuracy'])"
   ]
  },
  {
   "cell_type": "code",
   "execution_count": 12,
   "metadata": {},
   "outputs": [
    {
     "name": "stdout",
     "output_type": "stream",
     "text": [
      "WARNING:tensorflow:From C:\\Users\\LINGAM\\anaconda3\\lib\\site-packages\\keras\\backend\\tensorflow_backend.py:422: The name tf.global_variables is deprecated. Please use tf.compat.v1.global_variables instead.\n",
      "\n",
      "Epoch 1/100\n",
      "10/10 [==============================] - 64s 6s/step - loss: 3.4441 - accuracy: 0.0500 - val_loss: 148.5053 - val_accuracy: 0.0715\n",
      "Epoch 2/100\n",
      "10/10 [==============================] - 32s 3s/step - loss: 3.2676 - accuracy: 0.0469 - val_loss: 213.7745 - val_accuracy: 0.0715\n",
      "Epoch 3/100\n",
      "10/10 [==============================] - 34s 3s/step - loss: 3.0823 - accuracy: 0.0594 - val_loss: 159.6149 - val_accuracy: 0.0992\n",
      "Epoch 4/100\n",
      "10/10 [==============================] - 36s 4s/step - loss: 2.9750 - accuracy: 0.0719 - val_loss: 119.5689 - val_accuracy: 0.0887\n",
      "Epoch 5/100\n",
      "10/10 [==============================] - 35s 4s/step - loss: 2.8642 - accuracy: 0.0875 - val_loss: 188.5055 - val_accuracy: 0.1259\n",
      "Epoch 6/100\n",
      "10/10 [==============================] - 37s 4s/step - loss: 2.8329 - accuracy: 0.0969 - val_loss: 181.7587 - val_accuracy: 0.1018\n",
      "Epoch 7/100\n",
      "10/10 [==============================] - 38s 4s/step - loss: 2.7814 - accuracy: 0.1250 - val_loss: 191.6408 - val_accuracy: 0.1330\n",
      "Epoch 8/100\n",
      "10/10 [==============================] - 33s 3s/step - loss: 2.8015 - accuracy: 0.1219 - val_loss: 197.9318 - val_accuracy: 0.1058\n",
      "Epoch 9/100\n",
      "10/10 [==============================] - 36s 4s/step - loss: 2.6929 - accuracy: 0.1312 - val_loss: 177.9060 - val_accuracy: 0.1335\n",
      "Epoch 10/100\n",
      "10/10 [==============================] - 36s 4s/step - loss: 2.6572 - accuracy: 0.1344 - val_loss: 304.4532 - val_accuracy: 0.0977\n",
      "Epoch 11/100\n",
      "10/10 [==============================] - 35s 4s/step - loss: 2.7116 - accuracy: 0.1094 - val_loss: 241.7526 - val_accuracy: 0.1214\n",
      "Epoch 12/100\n",
      "10/10 [==============================] - 36s 4s/step - loss: 2.6012 - accuracy: 0.1594 - val_loss: 189.7132 - val_accuracy: 0.1506\n",
      "Epoch 13/100\n",
      "10/10 [==============================] - 34s 3s/step - loss: 2.6016 - accuracy: 0.1750 - val_loss: 217.6511 - val_accuracy: 0.1698\n",
      "Epoch 14/100\n",
      "10/10 [==============================] - 35s 4s/step - loss: 2.5696 - accuracy: 0.1688 - val_loss: 229.0262 - val_accuracy: 0.1451\n",
      "Epoch 15/100\n",
      "10/10 [==============================] - 36s 4s/step - loss: 2.6082 - accuracy: 0.1312 - val_loss: 165.2004 - val_accuracy: 0.1597\n",
      "Epoch 16/100\n",
      "10/10 [==============================] - 36s 4s/step - loss: 2.5814 - accuracy: 0.1625 - val_loss: 214.9371 - val_accuracy: 0.1451\n",
      "Epoch 17/100\n",
      "10/10 [==============================] - 37s 4s/step - loss: 2.5327 - accuracy: 0.2031 - val_loss: 162.4602 - val_accuracy: 0.1960\n",
      "Epoch 18/100\n",
      "10/10 [==============================] - 34s 3s/step - loss: 2.4490 - accuracy: 0.2562 - val_loss: 267.8832 - val_accuracy: 0.1310\n",
      "Epoch 19/100\n",
      "10/10 [==============================] - 33s 3s/step - loss: 2.4276 - accuracy: 0.2344 - val_loss: 201.7773 - val_accuracy: 0.2057\n",
      "Epoch 20/100\n",
      "10/10 [==============================] - 35s 3s/step - loss: 2.3673 - accuracy: 0.2555 - val_loss: 209.2106 - val_accuracy: 0.2247\n",
      "Epoch 21/100\n",
      "10/10 [==============================] - 36s 4s/step - loss: 2.3835 - accuracy: 0.2469 - val_loss: 211.9719 - val_accuracy: 0.1975\n",
      "Epoch 22/100\n",
      "10/10 [==============================] - 36s 4s/step - loss: 2.4588 - accuracy: 0.1688 - val_loss: 212.7000 - val_accuracy: 0.2060\n",
      "Epoch 23/100\n",
      "10/10 [==============================] - 36s 4s/step - loss: 2.4522 - accuracy: 0.2500 - val_loss: 163.1537 - val_accuracy: 0.2438\n",
      "Epoch 24/100\n",
      "10/10 [==============================] - 32s 3s/step - loss: 2.2843 - accuracy: 0.2781 - val_loss: 211.1063 - val_accuracy: 0.2400\n",
      "Epoch 25/100\n",
      "10/10 [==============================] - 36s 4s/step - loss: 2.2096 - accuracy: 0.2844 - val_loss: 245.1715 - val_accuracy: 0.2343\n",
      "Epoch 26/100\n",
      "10/10 [==============================] - 36s 4s/step - loss: 2.2715 - accuracy: 0.2688 - val_loss: 170.5453 - val_accuracy: 0.2645\n",
      "Epoch 27/100\n",
      "10/10 [==============================] - 36s 4s/step - loss: 2.2405 - accuracy: 0.2781 - val_loss: 167.8657 - val_accuracy: 0.2650\n",
      "Epoch 28/100\n",
      "10/10 [==============================] - 35s 3s/step - loss: 2.2204 - accuracy: 0.3000 - val_loss: 223.4994 - val_accuracy: 0.2574\n",
      "Epoch 29/100\n",
      "10/10 [==============================] - 35s 4s/step - loss: 2.2109 - accuracy: 0.3186 - val_loss: 145.8567 - val_accuracy: 0.2938\n",
      "Epoch 30/100\n",
      "10/10 [==============================] - 33s 3s/step - loss: 2.0663 - accuracy: 0.3906 - val_loss: 177.7783 - val_accuracy: 0.2771\n",
      "Epoch 31/100\n",
      "10/10 [==============================] - 35s 3s/step - loss: 2.1806 - accuracy: 0.3187 - val_loss: 250.1310 - val_accuracy: 0.2625\n",
      "Epoch 32/100\n",
      "10/10 [==============================] - 35s 3s/step - loss: 2.1344 - accuracy: 0.3438 - val_loss: 209.5615 - val_accuracy: 0.3234\n",
      "Epoch 33/100\n",
      "10/10 [==============================] - 35s 3s/step - loss: 1.9694 - accuracy: 0.3406 - val_loss: 139.7905 - val_accuracy: 0.3139\n",
      "Epoch 34/100\n",
      "10/10 [==============================] - 36s 4s/step - loss: 2.0894 - accuracy: 0.3438 - val_loss: 234.7700 - val_accuracy: 0.3373\n",
      "Epoch 35/100\n",
      "10/10 [==============================] - 33s 3s/step - loss: 2.0480 - accuracy: 0.3562 - val_loss: 243.2602 - val_accuracy: 0.3048\n",
      "Epoch 36/100\n",
      "10/10 [==============================] - 36s 4s/step - loss: 1.9108 - accuracy: 0.3969 - val_loss: 213.4671 - val_accuracy: 0.3184\n",
      "Epoch 37/100\n",
      "10/10 [==============================] - 35s 4s/step - loss: 1.9805 - accuracy: 0.3531 - val_loss: 185.1207 - val_accuracy: 0.3224\n",
      "Epoch 38/100\n",
      "10/10 [==============================] - 35s 4s/step - loss: 1.9070 - accuracy: 0.4062 - val_loss: 194.7551 - val_accuracy: 0.3449\n",
      "Epoch 39/100\n",
      "10/10 [==============================] - 35s 4s/step - loss: 2.0121 - accuracy: 0.3469 - val_loss: 297.4819 - val_accuracy: 0.2781\n",
      "Epoch 40/100\n",
      "10/10 [==============================] - 34s 3s/step - loss: 2.0081 - accuracy: 0.3313 - val_loss: 235.3601 - val_accuracy: 0.3491\n",
      "Epoch 41/100\n",
      "10/10 [==============================] - 34s 3s/step - loss: 1.8860 - accuracy: 0.3875 - val_loss: 205.0721 - val_accuracy: 0.3144\n",
      "Epoch 42/100\n",
      "10/10 [==============================] - 35s 4s/step - loss: 1.8778 - accuracy: 0.3812 - val_loss: 179.5946 - val_accuracy: 0.3557\n",
      "Epoch 43/100\n",
      "10/10 [==============================] - 35s 4s/step - loss: 1.8938 - accuracy: 0.4156 - val_loss: 253.1231 - val_accuracy: 0.3040\n",
      "Epoch 44/100\n",
      "10/10 [==============================] - 36s 4s/step - loss: 1.8242 - accuracy: 0.4062 - val_loss: 218.7627 - val_accuracy: 0.3798\n",
      "Epoch 45/100\n",
      "10/10 [==============================] - 35s 4s/step - loss: 1.8902 - accuracy: 0.3875 - val_loss: 246.2549 - val_accuracy: 0.3763\n",
      "Epoch 46/100\n",
      "10/10 [==============================] - 33s 3s/step - loss: 1.7826 - accuracy: 0.4469 - val_loss: 255.5433 - val_accuracy: 0.3587\n",
      "Epoch 47/100\n",
      "10/10 [==============================] - 35s 3s/step - loss: 1.7697 - accuracy: 0.4500 - val_loss: 346.5032 - val_accuracy: 0.3456\n",
      "Epoch 48/100\n",
      "10/10 [==============================] - 37s 4s/step - loss: 1.6967 - accuracy: 0.4094 - val_loss: 178.5094 - val_accuracy: 0.3849\n",
      "Epoch 49/100\n",
      "10/10 [==============================] - 36s 4s/step - loss: 1.6087 - accuracy: 0.4844 - val_loss: 309.1366 - val_accuracy: 0.3542\n",
      "Epoch 50/100\n",
      "10/10 [==============================] - 37s 4s/step - loss: 1.6046 - accuracy: 0.4812 - val_loss: 361.2104 - val_accuracy: 0.4055\n",
      "Epoch 51/100\n",
      "10/10 [==============================] - 35s 3s/step - loss: 1.6599 - accuracy: 0.4344 - val_loss: 179.4677 - val_accuracy: 0.4000\n",
      "Epoch 52/100\n",
      "10/10 [==============================] - 33s 3s/step - loss: 1.7884 - accuracy: 0.3781 - val_loss: 749.7789 - val_accuracy: 0.3280\n",
      "Epoch 53/100\n",
      "10/10 [==============================] - 36s 4s/step - loss: 1.7879 - accuracy: 0.4187 - val_loss: 242.1742 - val_accuracy: 0.4252\n",
      "Epoch 54/100\n",
      "10/10 [==============================] - 37s 4s/step - loss: 1.5209 - accuracy: 0.4875 - val_loss: 134.6172 - val_accuracy: 0.4000\n",
      "Epoch 55/100\n",
      "10/10 [==============================] - 36s 4s/step - loss: 1.6862 - accuracy: 0.4031 - val_loss: 235.5844 - val_accuracy: 0.4277\n",
      "Epoch 56/100\n"
     ]
    },
    {
     "name": "stdout",
     "output_type": "stream",
     "text": [
      "10/10 [==============================] - 37s 4s/step - loss: 1.6176 - accuracy: 0.4938 - val_loss: 252.8792 - val_accuracy: 0.3975\n",
      "Epoch 57/100\n",
      "10/10 [==============================] - 33s 3s/step - loss: 1.6612 - accuracy: 0.4688 - val_loss: 134.2185 - val_accuracy: 0.4278\n",
      "Epoch 58/100\n",
      "10/10 [==============================] - 35s 4s/step - loss: 1.5507 - accuracy: 0.4656 - val_loss: 172.0876 - val_accuracy: 0.4020\n",
      "Epoch 59/100\n",
      "10/10 [==============================] - 35s 4s/step - loss: 1.4472 - accuracy: 0.5237 - val_loss: 260.0077 - val_accuracy: 0.4131\n",
      "Epoch 60/100\n",
      "10/10 [==============================] - 35s 4s/step - loss: 1.6139 - accuracy: 0.5031 - val_loss: 188.5743 - val_accuracy: 0.4373\n",
      "Epoch 61/100\n",
      "10/10 [==============================] - 34s 3s/step - loss: 1.5012 - accuracy: 0.5125 - val_loss: 213.3905 - val_accuracy: 0.3960\n",
      "Epoch 62/100\n",
      "10/10 [==============================] - 33s 3s/step - loss: 1.5469 - accuracy: 0.4688 - val_loss: 316.8484 - val_accuracy: 0.4186\n",
      "Epoch 63/100\n",
      "10/10 [==============================] - 34s 3s/step - loss: 1.5098 - accuracy: 0.5219 - val_loss: 191.2334 - val_accuracy: 0.4247\n",
      "Epoch 64/100\n",
      "10/10 [==============================] - 35s 4s/step - loss: 1.5828 - accuracy: 0.5063 - val_loss: 162.2427 - val_accuracy: 0.3521\n",
      "Epoch 65/100\n",
      "10/10 [==============================] - 36s 4s/step - loss: 1.5502 - accuracy: 0.5250 - val_loss: 248.7028 - val_accuracy: 0.4267\n",
      "Epoch 66/100\n",
      "10/10 [==============================] - 35s 4s/step - loss: 1.5197 - accuracy: 0.5031 - val_loss: 177.9194 - val_accuracy: 0.4081\n",
      "Epoch 67/100\n",
      "10/10 [==============================] - 36s 4s/step - loss: 1.4140 - accuracy: 0.5219 - val_loss: 187.8669 - val_accuracy: 0.4145\n",
      "Epoch 68/100\n",
      "10/10 [==============================] - 32s 3s/step - loss: 1.4130 - accuracy: 0.5562 - val_loss: 214.4912 - val_accuracy: 0.4131\n",
      "Epoch 69/100\n",
      "10/10 [==============================] - 35s 3s/step - loss: 1.4149 - accuracy: 0.5406 - val_loss: 287.9433 - val_accuracy: 0.4111\n",
      "Epoch 70/100\n",
      "10/10 [==============================] - 35s 4s/step - loss: 1.4753 - accuracy: 0.5250 - val_loss: 280.5894 - val_accuracy: 0.4353\n",
      "Epoch 71/100\n",
      "10/10 [==============================] - 34s 3s/step - loss: 1.4079 - accuracy: 0.5375 - val_loss: 347.8591 - val_accuracy: 0.4048\n",
      "Epoch 72/100\n",
      "10/10 [==============================] - 37s 4s/step - loss: 1.5646 - accuracy: 0.4875 - val_loss: 300.2550 - val_accuracy: 0.4725\n",
      "Epoch 73/100\n",
      "10/10 [==============================] - 33s 3s/step - loss: 1.3994 - accuracy: 0.5219 - val_loss: 167.5629 - val_accuracy: 0.4514\n",
      "Epoch 74/100\n",
      "10/10 [==============================] - 35s 3s/step - loss: 1.3253 - accuracy: 0.5875 - val_loss: 229.7852 - val_accuracy: 0.3980\n",
      "Epoch 75/100\n",
      "10/10 [==============================] - 37s 4s/step - loss: 1.2409 - accuracy: 0.6250 - val_loss: 229.4236 - val_accuracy: 0.4423\n",
      "Epoch 76/100\n",
      "10/10 [==============================] - 37s 4s/step - loss: 1.3544 - accuracy: 0.5156 - val_loss: 254.3032 - val_accuracy: 0.4376\n",
      "Epoch 77/100\n",
      "10/10 [==============================] - 37s 4s/step - loss: 1.4206 - accuracy: 0.5250 - val_loss: 218.4868 - val_accuracy: 0.4186\n",
      "Epoch 78/100\n",
      "10/10 [==============================] - 43s 4s/step - loss: 1.2098 - accuracy: 0.6094 - val_loss: 321.7308 - val_accuracy: 0.4307\n",
      "Epoch 79/100\n",
      "10/10 [==============================] - 42s 4s/step - loss: 1.3377 - accuracy: 0.5344 - val_loss: 150.1037 - val_accuracy: 0.4267\n",
      "Epoch 80/100\n",
      "10/10 [==============================] - 52s 5s/step - loss: 1.2917 - accuracy: 0.5562 - val_loss: 267.1349 - val_accuracy: 0.4025\n",
      "Epoch 81/100\n",
      "10/10 [==============================] - 36s 4s/step - loss: 1.4124 - accuracy: 0.5500 - val_loss: 210.9202 - val_accuracy: 0.4729\n",
      "Epoch 82/100\n",
      "10/10 [==============================] - 37s 4s/step - loss: 1.2890 - accuracy: 0.5875 - val_loss: 243.9890 - val_accuracy: 0.4534\n",
      "Epoch 83/100\n",
      "10/10 [==============================] - 36s 4s/step - loss: 1.1661 - accuracy: 0.6281 - val_loss: 352.5276 - val_accuracy: 0.4146\n",
      "Epoch 84/100\n",
      "10/10 [==============================] - 29s 3s/step - loss: 1.3430 - accuracy: 0.5219 - val_loss: 259.9056 - val_accuracy: 0.4730\n",
      "Epoch 85/100\n",
      "10/10 [==============================] - 34s 3s/step - loss: 1.3229 - accuracy: 0.5500 - val_loss: 452.1237 - val_accuracy: 0.3965\n",
      "Epoch 86/100\n",
      "10/10 [==============================] - 50s 5s/step - loss: 1.3105 - accuracy: 0.5531 - val_loss: 248.3611 - val_accuracy: 0.3961\n",
      "Epoch 87/100\n",
      "10/10 [==============================] - 38s 4s/step - loss: 1.2878 - accuracy: 0.5615 - val_loss: 214.5041 - val_accuracy: 0.4418\n",
      "Epoch 88/100\n",
      "10/10 [==============================] - 40s 4s/step - loss: 1.2737 - accuracy: 0.6000 - val_loss: 350.7537 - val_accuracy: 0.4302\n",
      "Epoch 89/100\n",
      "10/10 [==============================] - 37s 4s/step - loss: 1.2840 - accuracy: 0.6000 - val_loss: 299.9643 - val_accuracy: 0.4484\n",
      "Epoch 90/100\n",
      "10/10 [==============================] - 36s 4s/step - loss: 1.1982 - accuracy: 0.6125 - val_loss: 258.6275 - val_accuracy: 0.4304\n",
      "Epoch 91/100\n",
      "10/10 [==============================] - 33s 3s/step - loss: 1.2394 - accuracy: 0.5906 - val_loss: 327.7266 - val_accuracy: 0.4801\n",
      "Epoch 92/100\n",
      "10/10 [==============================] - 36s 4s/step - loss: 1.2189 - accuracy: 0.5781 - val_loss: 317.0788 - val_accuracy: 0.4368\n",
      "Epoch 93/100\n",
      "10/10 [==============================] - 36s 4s/step - loss: 1.3028 - accuracy: 0.6156 - val_loss: 371.0795 - val_accuracy: 0.4605\n",
      "Epoch 94/100\n",
      "10/10 [==============================] - 35s 4s/step - loss: 1.2124 - accuracy: 0.6156 - val_loss: 360.8263 - val_accuracy: 0.4610\n",
      "Epoch 95/100\n",
      "10/10 [==============================] - 36s 4s/step - loss: 1.2659 - accuracy: 0.6000 - val_loss: 389.3187 - val_accuracy: 0.3951\n",
      "Epoch 96/100\n",
      "10/10 [==============================] - 34s 3s/step - loss: 1.2953 - accuracy: 0.5625 - val_loss: 193.1068 - val_accuracy: 0.4922\n",
      "Epoch 97/100\n",
      "10/10 [==============================] - 34s 3s/step - loss: 1.2492 - accuracy: 0.5994 - val_loss: 520.4702 - val_accuracy: 0.4383\n",
      "Epoch 98/100\n",
      "10/10 [==============================] - 35s 4s/step - loss: 1.0622 - accuracy: 0.6219 - val_loss: 202.6554 - val_accuracy: 0.4474\n",
      "Epoch 99/100\n",
      "10/10 [==============================] - 35s 4s/step - loss: 1.0998 - accuracy: 0.6000 - val_loss: 278.7476 - val_accuracy: 0.4564\n",
      "Epoch 100/100\n",
      "10/10 [==============================] - 36s 4s/step - loss: 1.1033 - accuracy: 0.6625 - val_loss: 201.8974 - val_accuracy: 0.4447\n"
     ]
    },
    {
     "data": {
      "text/plain": [
       "<keras.callbacks.callbacks.History at 0xf786048>"
      ]
     },
     "execution_count": 12,
     "metadata": {},
     "output_type": "execute_result"
    }
   ],
   "source": [
    "model.fit_generator(x_train,steps_per_epoch=10,epochs=100,validation_data=x_test,validation_steps=63)"
   ]
  },
  {
   "cell_type": "code",
   "execution_count": 13,
   "metadata": {},
   "outputs": [
    {
     "name": "stdout",
     "output_type": "stream",
     "text": [
      "{'0': 0, '1': 1, '2': 2, '3': 3, '4': 4, '5': 5, '6': 6, '7': 7, '8': 8, '9': 9, 'a': 10, 'b': 11, 'c': 12, 'd': 13, 'e': 14, 'f': 15, 'h': 16, 'i': 17, 'k': 18, 'l': 19, 'm': 20, 'n': 21, 'o': 22, 'p': 23, 'q': 24, 'r': 25, 't': 26, 'u': 27, 'v': 28, 'w': 29, 'x': 30, 'y': 31}\n"
     ]
    }
   ],
   "source": [
    "print(x_train.class_indices)"
   ]
  },
  {
   "cell_type": "code",
   "execution_count": 14,
   "metadata": {},
   "outputs": [],
   "source": [
    "model.save(\"conversion engine.h5\")"
   ]
  },
  {
   "cell_type": "code",
   "execution_count": null,
   "metadata": {},
   "outputs": [],
   "source": []
  }
 ],
 "metadata": {
  "kernelspec": {
   "display_name": "Python 3",
   "language": "python",
   "name": "python3"
  },
  "language_info": {
   "codemirror_mode": {
    "name": "ipython",
    "version": 3
   },
   "file_extension": ".py",
   "mimetype": "text/x-python",
   "name": "python",
   "nbconvert_exporter": "python",
   "pygments_lexer": "ipython3",
   "version": "3.7.6"
  }
 },
 "nbformat": 4,
 "nbformat_minor": 4
}
